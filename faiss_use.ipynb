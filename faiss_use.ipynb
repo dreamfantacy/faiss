{
 "cells": [
  {
   "cell_type": "markdown",
   "metadata": {},
   "source": [
    "## faiss使用\n",
    "\n",
    "faiss是为稠密向量提供高效相似度搜索和聚类的框架。由Facebook AI Research研发。\n",
    "\n",
    "具有以下特性：\n",
    "\n",
    "1、提供多种检索方法\n",
    "\n",
    "2、速度快\n",
    "\n",
    "3、可存在内存和磁盘中\n",
    "\n",
    "4、C++实现，提供Python封装调用。\n",
    "\n",
    "5、大部分算法支持GPU实现\n",
    "\n",
    "下面，具体讲解了faiss常用的几种实现方法。"
   ]
  },
  {
   "cell_type": "code",
   "execution_count": 1,
   "metadata": {},
   "outputs": [
    {
     "name": "stdout",
     "output_type": "stream",
     "text": [
      "[[0.6535896  0.11500695 0.9502829  0.4821914  0.87247455 0.21233268\n",
      "  0.04070963 0.39719447 0.2331322  0.8417407  0.20708235 0.74246955\n",
      "  0.39215413 0.18225652 0.7435394  0.06958208 0.88533723 0.9526444\n",
      "  0.93114346 0.41543096 0.02898166 0.9820275  0.3396377  0.7066872\n",
      "  0.36187705 0.0351059  0.85505825 0.6572535  0.765683   0.5540872\n",
      "  0.8850929  0.90419763 0.0104217  0.07455674 0.2446292  0.13330476\n",
      "  0.6979251  0.3982049  0.8831222  0.1810075  0.43249917 0.0181432\n",
      "  0.69143784 0.46969065 0.12822218 0.89133704 0.91820365 0.073121\n",
      "  0.04544794 0.43857288 0.6017209  0.31022704 0.68190825 0.20901315\n",
      "  0.5196043  0.56598884 0.44116738 0.13755615 0.21354319 0.13337189\n",
      "  0.3222967  0.23388712 0.5274982  0.56597114]]\n"
     ]
    }
   ],
   "source": [
    "import faiss\n",
    "from faiss import normalize_L2\n",
    "import numpy as np\n",
    "\n",
    "d = 64   # 向量维度\n",
    "nb = 1000000  # 数据大小\n",
    "k = 6 # 查询top 5个最近邻\n",
    "np.random.seed(1000)\n",
    "train_vectors = np.random.random((nb, d)).astype('float32')   # 产生随机数，维度为nb x d\n",
    "print(train_vectors[0:1])"
   ]
  },
  {
   "cell_type": "markdown",
   "metadata": {},
   "source": [
    "### 精确的内积搜索"
   ]
  },
  {
   "cell_type": "code",
   "execution_count": 2,
   "metadata": {},
   "outputs": [
    {
     "name": "stdout",
     "output_type": "stream",
     "text": [
      "CPU times: user 477 ms, sys: 121 ms, total: 598 ms\n",
      "Wall time: 237 ms\n"
     ]
    }
   ],
   "source": [
    "%%time\n",
    "# 精确的内积搜索，对归一化向量计算余弦相似度\n",
    "faiss.normalize_L2(train_vectors)   # 归一化\n",
    "index = faiss.IndexFlatIP(d)  # 内积建立索引\n",
    "index.add(train_vectors)  # 添加矩阵"
   ]
  },
  {
   "cell_type": "code",
   "execution_count": 3,
   "metadata": {},
   "outputs": [
    {
     "name": "stdout",
     "output_type": "stream",
     "text": [
      "CPU times: user 759 ms, sys: 45.8 ms, total: 805 ms\n",
      "Wall time: 227 ms\n",
      "[[0.99999994 0.8892122  0.87494147 0.87424946 0.8681992  0.8681393 ]\n",
      " [1.0000004  0.91028035 0.9102063  0.9085115  0.90596604 0.9054309 ]\n",
      " [1.0000001  0.885697   0.87504876 0.871817   0.87172264 0.87148   ]\n",
      " [1.         0.88810456 0.87671316 0.8715366  0.86975044 0.86801356]\n",
      " [0.9999998  0.9004811  0.8862682  0.88459796 0.88312733 0.8812078 ]]\n",
      "[[     0  91017 177926 512918 299246 495820]\n",
      " [     1 927457 377725 163893  23204 352095]\n",
      " [     2 316873 797030 147008 906258 787238]\n",
      " [     3 498985 296306 972003 759146 704490]\n",
      " [     4 321229 754783 139900 340274 795477]]\n"
     ]
    }
   ],
   "source": [
    "%time D, I = index.search(train_vectors[:100], k)  # 基于索引，对前5行数据，进行K近邻查询\n",
    "print(D[:5])  # 距离矩阵\n",
    "print(I[:5])  # 索引矩阵"
   ]
  },
  {
   "cell_type": "markdown",
   "metadata": {},
   "source": [
    "### 精确的L2距离搜索"
   ]
  },
  {
   "cell_type": "code",
   "execution_count": 4,
   "metadata": {
    "scrolled": true
   },
   "outputs": [
    {
     "name": "stdout",
     "output_type": "stream",
     "text": [
      "True\n",
      "1000000\n",
      "CPU times: user 416 ms, sys: 147 ms, total: 563 ms\n",
      "Wall time: 224 ms\n"
     ]
    }
   ],
   "source": [
    "%%time\n",
    "index = faiss.IndexFlatL2(d)\n",
    "print(index.is_trained)\n",
    "index.add(train_vectors) \n",
    "print(index.ntotal)  # 查看建立索引的向量数目"
   ]
  },
  {
   "cell_type": "code",
   "execution_count": 5,
   "metadata": {},
   "outputs": [
    {
     "name": "stdout",
     "output_type": "stream",
     "text": [
      "CPU times: user 876 ms, sys: 45.3 ms, total: 921 ms\n",
      "Wall time: 251 ms\n",
      "[[1.1920929e-07 2.2157562e-01 2.5011706e-01 2.5150108e-01 2.6360142e-01\n",
      "  2.6372135e-01]\n",
      " [0.0000000e+00 1.7943978e-01 1.7958736e-01 1.8297720e-01 1.8806791e-01\n",
      "  1.8913841e-01]\n",
      " [0.0000000e+00 2.2860599e-01 2.4990249e-01 2.5636601e-01 2.5655472e-01\n",
      "  2.5704002e-01]\n",
      " [0.0000000e+00 2.2379065e-01 2.4657393e-01 2.5692677e-01 2.6049900e-01\n",
      "  2.6397288e-01]\n",
      " [0.0000000e+00 1.9903755e-01 2.2746336e-01 2.3080385e-01 2.3374510e-01\n",
      "  2.3758411e-01]]\n",
      "[[     0  91017 177926 512918 299246 495820]\n",
      " [     1 927457 377725 163893  23204 352095]\n",
      " [     2 316873 797030 147008 906258 787238]\n",
      " [     3 498985 296306 972003 759146 704490]\n",
      " [     4 321229 754783 139900 340274 795477]]\n"
     ]
    }
   ],
   "source": [
    "%time D, I = index.search(train_vectors[:100], k)  # 基于索引，对前5行数据，进行K近邻查询\n",
    "print(D[:5])\n",
    "print(I[:5])"
   ]
  },
  {
   "cell_type": "markdown",
   "metadata": {},
   "source": [
    "###  倒排文件检索\n",
    "\n",
    "为了加速查询，可以把数据集切分成多个，采用基于Multi-probing(best-bin KD树变体）的分块方法。\n",
    "* 特征空间被划分成ncells个块；\n",
    "* 数据被划分到这些块中(k-means可根据最近欧式距离)，归属关系存储在ncells个节点的倒排列表中；\n",
    "* 搜索时，检索离目标最近的nprobe个块；\n",
    "* 根据倒排列表检索nprobe个块中的所有数据\n",
    "\n",
    "这便是IndexIVFFlat，它需要另一个索引来记录倒排列表。"
   ]
  },
  {
   "cell_type": "code",
   "execution_count": 6,
   "metadata": {
    "scrolled": true
   },
   "outputs": [
    {
     "name": "stdout",
     "output_type": "stream",
     "text": [
      "CPU times: user 26.8 s, sys: 908 ms, total: 27.7 s\n",
      "Wall time: 10.1 s\n"
     ]
    }
   ],
   "source": [
    "%%time\n",
    "ncells = 1000  # 设置聚类中心个数\n",
    "nprobe = 5 # 设置搜索时，需要检索的离目标最近的nprobe个\n",
    "\n",
    "quantizer = faiss.IndexFlatIP(d)   # 建立一个量化器\n",
    "index = faiss.IndexIVFFlat(quantizer, d, ncells, faiss.METRIC_INNER_PRODUCT)\n",
    "index.train(train_vectors)\n",
    "index.add(train_vectors)"
   ]
  },
  {
   "cell_type": "code",
   "execution_count": 7,
   "metadata": {},
   "outputs": [
    {
     "name": "stdout",
     "output_type": "stream",
     "text": [
      "CPU times: user 10.4 ms, sys: 6.84 ms, total: 17.2 ms\n",
      "Wall time: 8.54 ms\n",
      "[[1.         0.8649015  0.8589389  0.85849226 0.84375334 0.84226656]\n",
      " [1.0000002  0.89472115 0.8887934  0.8870386  0.8853303  0.88515115]\n",
      " [1.0000001  0.8685078  0.8675276  0.8618238  0.85603774 0.8477105 ]\n",
      " [1.         0.8715367  0.837631   0.8366878  0.8355187  0.83386433]\n",
      " [0.9999998  0.9004812  0.8719325  0.8713748  0.87032235 0.86367786]]\n",
      "[[     0 768157 973530 331451 102250 787734]\n",
      " [     1 351245 493513  30966 603376 971320]\n",
      " [     2  17543 383568 591888 243810 820911]\n",
      " [     3 972003 652932 895411 383572  89314]\n",
      " [     4 321229 234587 577836 894080 258768]]\n"
     ]
    }
   ],
   "source": [
    "#使用默认的nprobe = 1\n",
    "%time D, I = index.search(train_vectors[:100], k)\n",
    "print(D[:5])\n",
    "print(I[:5])"
   ]
  },
  {
   "cell_type": "code",
   "execution_count": 8,
   "metadata": {},
   "outputs": [
    {
     "name": "stdout",
     "output_type": "stream",
     "text": [
      "CPU times: user 44.6 ms, sys: 15.5 ms, total: 60.1 ms\n",
      "Wall time: 18.8 ms\n",
      "[[1.         0.86556    0.8649015  0.85989505 0.8589389  0.85849226]\n",
      " [1.0000002  0.89788103 0.89687335 0.89633375 0.89472115 0.89016867]\n",
      " [1.0000001  0.8685078  0.8675276  0.8618238  0.85603774 0.8477105 ]\n",
      " [1.         0.8715367  0.86341625 0.8632425  0.8576048  0.8548256 ]\n",
      " [0.9999998  0.9004812  0.87391615 0.87204486 0.8719325  0.8713748 ]]\n",
      "[[     0 916688 768157  24856 973530 331451]\n",
      " [     1 923354 468023 142134 351245  58678]\n",
      " [     2  17543 383568 591888 243810 820911]\n",
      " [     3 972003 538319 433030 489597 822219]\n",
      " [     4 321229 921911  38244 234587 577836]]\n"
     ]
    }
   ],
   "source": [
    "# 设置nprobe = 10\n",
    "index.nprobe = nprobe\n",
    "%time D, I = index.search(train_vectors[:100], k)\n",
    "print(D[:5])\n",
    "print(I[:5])"
   ]
  },
  {
   "cell_type": "markdown",
   "metadata": {},
   "source": [
    "### IndexIVFPQ\n",
    "\n",
    "由于IndexIVFFlat和IndexIVFL2都要存储所有的向量数据，对于大型数据集是不现实的。\n",
    "\n",
    "因此，Faiss基于PQ提供了变体IndexIVFPQ来压缩数据向量，该方法有一定的精度损耗。"
   ]
  },
  {
   "cell_type": "code",
   "execution_count": 9,
   "metadata": {},
   "outputs": [
    {
     "name": "stdout",
     "output_type": "stream",
     "text": [
      "CPU times: user 57.9 s, sys: 921 ms, total: 58.8 s\n",
      "Wall time: 15.8 s\n"
     ]
    }
   ],
   "source": [
    "%%time\n",
    "m = 8\n",
    "ncells = 1000\n",
    "quantizer = faiss.IndexFlatIP(d)   # 建立一个量化器\n",
    "index = faiss.IndexIVFPQ(quantizer, d, ncells, m, 8)\n",
    "index.train(train_vectors)\n",
    "\n",
    "index.add(train_vectors)"
   ]
  },
  {
   "cell_type": "code",
   "execution_count": 10,
   "metadata": {
    "scrolled": true
   },
   "outputs": [
    {
     "name": "stdout",
     "output_type": "stream",
     "text": [
      "CPU times: user 9.38 ms, sys: 2.41 ms, total: 11.8 ms\n",
      "Wall time: 3.62 ms\n",
      "[[0.0835091  0.2554305  0.25882936 0.26452243 0.26792726 0.269789  ]\n",
      " [0.05534138 0.18861991 0.20567755 0.20591447 0.20633136 0.21044768]\n",
      " [0.06245257 0.24012531 0.24424459 0.25692075 0.266371   0.27467135]\n",
      " [0.09201896 0.26103753 0.27423584 0.2745729  0.28080127 0.28357062]\n",
      " [0.08818588 0.20140383 0.2034731  0.20371425 0.21177894 0.21378195]]\n",
      "[[     0 299246 973480 899095 210338 484988]\n",
      " [     1 863851 689669 361876 677159 252478]\n",
      " [     2 953962  13098 590473 808981 292139]\n",
      " [     3  34108 909142 230885 957363 894159]\n",
      " [     4 882792 990343 527845 648431 754209]]\n"
     ]
    }
   ],
   "source": [
    "#使用默认的nprobe = 1\n",
    "%time D, I = index.search(train_vectors[:5], k)\n",
    "print(D[:5])\n",
    "print(I[:5])"
   ]
  }
 ],
 "metadata": {
  "kernelspec": {
   "display_name": "Python 3",
   "language": "python",
   "name": "python3"
  },
  "language_info": {
   "codemirror_mode": {
    "name": "ipython",
    "version": 3
   },
   "file_extension": ".py",
   "mimetype": "text/x-python",
   "name": "python",
   "nbconvert_exporter": "python",
   "pygments_lexer": "ipython3",
   "version": "3.7.1"
  }
 },
 "nbformat": 4,
 "nbformat_minor": 2
}
